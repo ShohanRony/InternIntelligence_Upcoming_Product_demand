{
 "cells": [
  {
   "cell_type": "markdown",
   "id": "1f6ce935",
   "metadata": {
    "papermill": {
     "duration": 0.00357,
     "end_time": "2025-03-16T08:40:47.402523",
     "exception": false,
     "start_time": "2025-03-16T08:40:47.398953",
     "status": "completed"
    },
    "tags": []
   },
   "source": [
    "## Import Necessary Libraries"
   ]
  },
  {
   "cell_type": "code",
   "execution_count": 1,
   "id": "f6655416",
   "metadata": {
    "execution": {
     "iopub.execute_input": "2025-03-16T08:40:47.410342Z",
     "iopub.status.busy": "2025-03-16T08:40:47.409866Z",
     "iopub.status.idle": "2025-03-16T08:40:51.158585Z",
     "shell.execute_reply": "2025-03-16T08:40:51.157643Z"
    },
    "papermill": {
     "duration": 3.754878,
     "end_time": "2025-03-16T08:40:51.160638",
     "exception": false,
     "start_time": "2025-03-16T08:40:47.405760",
     "status": "completed"
    },
    "tags": []
   },
   "outputs": [],
   "source": [
    "import pandas as pd\n",
    "import numpy as np\n",
    "import matplotlib.pyplot as plt\n",
    "import seaborn as sns\n",
    "from sklearn.model_selection import train_test_split\n",
    "from sklearn.ensemble import RandomForestRegressor\n",
    "from sklearn.metrics import mean_absolute_error, mean_squared_error\n",
    "from datetime import datetime"
   ]
  },
  {
   "cell_type": "markdown",
   "id": "dae0bc10",
   "metadata": {
    "papermill": {
     "duration": 0.002761,
     "end_time": "2025-03-16T08:40:51.166695",
     "exception": false,
     "start_time": "2025-03-16T08:40:51.163934",
     "status": "completed"
    },
    "tags": []
   },
   "source": [
    " ## Load Dataset"
   ]
  },
  {
   "cell_type": "code",
   "execution_count": 2,
   "id": "2c71018f",
   "metadata": {
    "execution": {
     "iopub.execute_input": "2025-03-16T08:40:51.174276Z",
     "iopub.status.busy": "2025-03-16T08:40:51.173760Z",
     "iopub.status.idle": "2025-03-16T08:40:52.575275Z",
     "shell.execute_reply": "2025-03-16T08:40:52.574143Z"
    },
    "papermill": {
     "duration": 1.407342,
     "end_time": "2025-03-16T08:40:52.577130",
     "exception": false,
     "start_time": "2025-03-16T08:40:51.169788",
     "status": "completed"
    },
    "tags": []
   },
   "outputs": [
    {
     "data": {
      "text/html": [
       "<div>\n",
       "<style scoped>\n",
       "    .dataframe tbody tr th:only-of-type {\n",
       "        vertical-align: middle;\n",
       "    }\n",
       "\n",
       "    .dataframe tbody tr th {\n",
       "        vertical-align: top;\n",
       "    }\n",
       "\n",
       "    .dataframe thead th {\n",
       "        text-align: right;\n",
       "    }\n",
       "</style>\n",
       "<table border=\"1\" class=\"dataframe\">\n",
       "  <thead>\n",
       "    <tr style=\"text-align: right;\">\n",
       "      <th></th>\n",
       "      <th>Product_Code</th>\n",
       "      <th>Warehouse</th>\n",
       "      <th>Product_Category</th>\n",
       "      <th>Date</th>\n",
       "      <th>Order_Demand</th>\n",
       "    </tr>\n",
       "  </thead>\n",
       "  <tbody>\n",
       "    <tr>\n",
       "      <th>0</th>\n",
       "      <td>Product_0993</td>\n",
       "      <td>Whse_J</td>\n",
       "      <td>Category_028</td>\n",
       "      <td>2012/7/27</td>\n",
       "      <td>100</td>\n",
       "    </tr>\n",
       "    <tr>\n",
       "      <th>1</th>\n",
       "      <td>Product_0979</td>\n",
       "      <td>Whse_J</td>\n",
       "      <td>Category_028</td>\n",
       "      <td>2012/1/19</td>\n",
       "      <td>500</td>\n",
       "    </tr>\n",
       "    <tr>\n",
       "      <th>2</th>\n",
       "      <td>Product_0979</td>\n",
       "      <td>Whse_J</td>\n",
       "      <td>Category_028</td>\n",
       "      <td>2012/2/3</td>\n",
       "      <td>500</td>\n",
       "    </tr>\n",
       "    <tr>\n",
       "      <th>3</th>\n",
       "      <td>Product_0979</td>\n",
       "      <td>Whse_J</td>\n",
       "      <td>Category_028</td>\n",
       "      <td>2012/2/9</td>\n",
       "      <td>500</td>\n",
       "    </tr>\n",
       "    <tr>\n",
       "      <th>4</th>\n",
       "      <td>Product_0979</td>\n",
       "      <td>Whse_J</td>\n",
       "      <td>Category_028</td>\n",
       "      <td>2012/3/2</td>\n",
       "      <td>500</td>\n",
       "    </tr>\n",
       "  </tbody>\n",
       "</table>\n",
       "</div>"
      ],
      "text/plain": [
       "   Product_Code Warehouse Product_Category       Date Order_Demand\n",
       "0  Product_0993    Whse_J     Category_028  2012/7/27         100 \n",
       "1  Product_0979    Whse_J     Category_028  2012/1/19         500 \n",
       "2  Product_0979    Whse_J     Category_028   2012/2/3         500 \n",
       "3  Product_0979    Whse_J     Category_028   2012/2/9         500 \n",
       "4  Product_0979    Whse_J     Category_028   2012/3/2         500 "
      ]
     },
     "execution_count": 2,
     "metadata": {},
     "output_type": "execute_result"
    }
   ],
   "source": [
    "# Read the CSV file into a DataFrame\n",
    "file_path = \"/kaggle/input/productdemandforecasting/Historical Product Demand.csv\"\n",
    "df = pd.read_csv(file_path)\n",
    "df.head()"
   ]
  },
  {
   "cell_type": "markdown",
   "id": "a775a12f",
   "metadata": {
    "papermill": {
     "duration": 0.00324,
     "end_time": "2025-03-16T08:40:52.584020",
     "exception": false,
     "start_time": "2025-03-16T08:40:52.580780",
     "status": "completed"
    },
    "tags": []
   },
   "source": [
    "## Data Cleaning & Preprocessing"
   ]
  },
  {
   "cell_type": "code",
   "execution_count": 3,
   "id": "83bc079e",
   "metadata": {
    "execution": {
     "iopub.execute_input": "2025-03-16T08:40:52.592464Z",
     "iopub.status.busy": "2025-03-16T08:40:52.592111Z",
     "iopub.status.idle": "2025-03-16T08:40:53.654474Z",
     "shell.execute_reply": "2025-03-16T08:40:53.653391Z"
    },
    "papermill": {
     "duration": 1.068498,
     "end_time": "2025-03-16T08:40:53.656141",
     "exception": false,
     "start_time": "2025-03-16T08:40:52.587643",
     "status": "completed"
    },
    "tags": []
   },
   "outputs": [
    {
     "name": "stdout",
     "output_type": "stream",
     "text": [
      "\n",
      "After Cleaning:\n",
      "<class 'pandas.core.frame.DataFrame'>\n",
      "Index: 1037336 entries, 0 to 1048574\n",
      "Data columns (total 5 columns):\n",
      " #   Column            Non-Null Count    Dtype         \n",
      "---  ------            --------------    -----         \n",
      " 0   Product_Code      1037336 non-null  object        \n",
      " 1   Warehouse         1037336 non-null  object        \n",
      " 2   Product_Category  1037336 non-null  object        \n",
      " 3   Date              1037336 non-null  datetime64[ns]\n",
      " 4   Order_Demand      1037336 non-null  float64       \n",
      "dtypes: datetime64[ns](1), float64(1), object(3)\n",
      "memory usage: 47.5+ MB\n"
     ]
    },
    {
     "data": {
      "text/html": [
       "<div>\n",
       "<style scoped>\n",
       "    .dataframe tbody tr th:only-of-type {\n",
       "        vertical-align: middle;\n",
       "    }\n",
       "\n",
       "    .dataframe tbody tr th {\n",
       "        vertical-align: top;\n",
       "    }\n",
       "\n",
       "    .dataframe thead th {\n",
       "        text-align: right;\n",
       "    }\n",
       "</style>\n",
       "<table border=\"1\" class=\"dataframe\">\n",
       "  <thead>\n",
       "    <tr style=\"text-align: right;\">\n",
       "      <th></th>\n",
       "      <th>Product_Code</th>\n",
       "      <th>Warehouse</th>\n",
       "      <th>Product_Category</th>\n",
       "      <th>Date</th>\n",
       "      <th>Order_Demand</th>\n",
       "    </tr>\n",
       "  </thead>\n",
       "  <tbody>\n",
       "    <tr>\n",
       "      <th>0</th>\n",
       "      <td>Product_0993</td>\n",
       "      <td>Whse_J</td>\n",
       "      <td>Category_028</td>\n",
       "      <td>2012-07-27</td>\n",
       "      <td>100.0</td>\n",
       "    </tr>\n",
       "    <tr>\n",
       "      <th>1</th>\n",
       "      <td>Product_0979</td>\n",
       "      <td>Whse_J</td>\n",
       "      <td>Category_028</td>\n",
       "      <td>2012-01-19</td>\n",
       "      <td>500.0</td>\n",
       "    </tr>\n",
       "    <tr>\n",
       "      <th>2</th>\n",
       "      <td>Product_0979</td>\n",
       "      <td>Whse_J</td>\n",
       "      <td>Category_028</td>\n",
       "      <td>2012-02-03</td>\n",
       "      <td>500.0</td>\n",
       "    </tr>\n",
       "    <tr>\n",
       "      <th>3</th>\n",
       "      <td>Product_0979</td>\n",
       "      <td>Whse_J</td>\n",
       "      <td>Category_028</td>\n",
       "      <td>2012-02-09</td>\n",
       "      <td>500.0</td>\n",
       "    </tr>\n",
       "    <tr>\n",
       "      <th>4</th>\n",
       "      <td>Product_0979</td>\n",
       "      <td>Whse_J</td>\n",
       "      <td>Category_028</td>\n",
       "      <td>2012-03-02</td>\n",
       "      <td>500.0</td>\n",
       "    </tr>\n",
       "  </tbody>\n",
       "</table>\n",
       "</div>"
      ],
      "text/plain": [
       "   Product_Code Warehouse Product_Category       Date  Order_Demand\n",
       "0  Product_0993    Whse_J     Category_028 2012-07-27         100.0\n",
       "1  Product_0979    Whse_J     Category_028 2012-01-19         500.0\n",
       "2  Product_0979    Whse_J     Category_028 2012-02-03         500.0\n",
       "3  Product_0979    Whse_J     Category_028 2012-02-09         500.0\n",
       "4  Product_0979    Whse_J     Category_028 2012-03-02         500.0"
      ]
     },
     "execution_count": 3,
     "metadata": {},
     "output_type": "execute_result"
    }
   ],
   "source": [
    "# Convert 'Date' column to datetime format\n",
    "df['Date'] = pd.to_datetime(df['Date'], errors='coerce')\n",
    "\n",
    "# Remove missing values in 'Date'\n",
    "df = df.dropna(subset=['Date'])\n",
    "\n",
    "# Convert 'Order_Demand' to numeric (remove parentheses indicating negative values)\n",
    "df['Order_Demand'] = df['Order_Demand'].astype(str).str.replace(\"[()]\", \"\", regex=True).astype(float)\n",
    "\n",
    "# Display dataset after preprocessing\n",
    "print(\"\\nAfter Cleaning:\")\n",
    "df.info()\n",
    "df.head()\n"
   ]
  },
  {
   "cell_type": "markdown",
   "id": "9ef697ce",
   "metadata": {
    "papermill": {
     "duration": 0.003229,
     "end_time": "2025-03-16T08:40:53.663126",
     "exception": false,
     "start_time": "2025-03-16T08:40:53.659897",
     "status": "completed"
    },
    "tags": []
   },
   "source": [
    "## Feature Engineering"
   ]
  },
  {
   "cell_type": "code",
   "execution_count": 4,
   "id": "dfd753bc",
   "metadata": {
    "execution": {
     "iopub.execute_input": "2025-03-16T08:40:53.671707Z",
     "iopub.status.busy": "2025-03-16T08:40:53.671289Z",
     "iopub.status.idle": "2025-03-16T08:40:53.914879Z",
     "shell.execute_reply": "2025-03-16T08:40:53.913739Z"
    },
    "papermill": {
     "duration": 0.25022,
     "end_time": "2025-03-16T08:40:53.916763",
     "exception": false,
     "start_time": "2025-03-16T08:40:53.666543",
     "status": "completed"
    },
    "tags": []
   },
   "outputs": [
    {
     "data": {
      "text/html": [
       "<div>\n",
       "<style scoped>\n",
       "    .dataframe tbody tr th:only-of-type {\n",
       "        vertical-align: middle;\n",
       "    }\n",
       "\n",
       "    .dataframe tbody tr th {\n",
       "        vertical-align: top;\n",
       "    }\n",
       "\n",
       "    .dataframe thead th {\n",
       "        text-align: right;\n",
       "    }\n",
       "</style>\n",
       "<table border=\"1\" class=\"dataframe\">\n",
       "  <thead>\n",
       "    <tr style=\"text-align: right;\">\n",
       "      <th></th>\n",
       "      <th>Year</th>\n",
       "      <th>Month</th>\n",
       "      <th>Order_Demand</th>\n",
       "      <th>Date</th>\n",
       "    </tr>\n",
       "  </thead>\n",
       "  <tbody>\n",
       "    <tr>\n",
       "      <th>0</th>\n",
       "      <td>2011</td>\n",
       "      <td>1</td>\n",
       "      <td>2.0</td>\n",
       "      <td>2011-01-01</td>\n",
       "    </tr>\n",
       "    <tr>\n",
       "      <th>1</th>\n",
       "      <td>2011</td>\n",
       "      <td>5</td>\n",
       "      <td>108.0</td>\n",
       "      <td>2011-05-01</td>\n",
       "    </tr>\n",
       "    <tr>\n",
       "      <th>2</th>\n",
       "      <td>2011</td>\n",
       "      <td>6</td>\n",
       "      <td>92000.0</td>\n",
       "      <td>2011-06-01</td>\n",
       "    </tr>\n",
       "    <tr>\n",
       "      <th>3</th>\n",
       "      <td>2011</td>\n",
       "      <td>9</td>\n",
       "      <td>6728.0</td>\n",
       "      <td>2011-09-01</td>\n",
       "    </tr>\n",
       "    <tr>\n",
       "      <th>4</th>\n",
       "      <td>2011</td>\n",
       "      <td>10</td>\n",
       "      <td>7.0</td>\n",
       "      <td>2011-10-01</td>\n",
       "    </tr>\n",
       "  </tbody>\n",
       "</table>\n",
       "</div>"
      ],
      "text/plain": [
       "   Year  Month  Order_Demand       Date\n",
       "0  2011      1           2.0 2011-01-01\n",
       "1  2011      5         108.0 2011-05-01\n",
       "2  2011      6       92000.0 2011-06-01\n",
       "3  2011      9        6728.0 2011-09-01\n",
       "4  2011     10           7.0 2011-10-01"
      ]
     },
     "execution_count": 4,
     "metadata": {},
     "output_type": "execute_result"
    }
   ],
   "source": [
    "# Extract useful time-based features\n",
    "df['Year'] = df['Date'].dt.year\n",
    "df['Month'] = df['Date'].dt.month\n",
    "df['Day'] = df['Date'].dt.day\n",
    "df['DayOfWeek'] = df['Date'].dt.dayofweek  # 0 = Monday, 6 = Sunday\n",
    "\n",
    "# Aggregate data at the monthly level\n",
    "df_grouped = df.groupby(['Year', 'Month'])['Order_Demand'].sum().reset_index()\n",
    "df_grouped['Date'] = pd.to_datetime(df_grouped[['Year', 'Month']].assign(Day=1))\n",
    "\n",
    "# Sort data by Date\n",
    "df_grouped = df_grouped.sort_values(by='Date')\n",
    "\n",
    "# Display the transformed dataset\n",
    "df_grouped.head()\n"
   ]
  },
  {
   "cell_type": "markdown",
   "id": "f2aad555",
   "metadata": {
    "papermill": {
     "duration": 0.003494,
     "end_time": "2025-03-16T08:40:53.924488",
     "exception": false,
     "start_time": "2025-03-16T08:40:53.920994",
     "status": "completed"
    },
    "tags": []
   },
   "source": [
    "## Data Visualization"
   ]
  },
  {
   "cell_type": "code",
   "execution_count": 5,
   "id": "1b4dd22c",
   "metadata": {
    "execution": {
     "iopub.execute_input": "2025-03-16T08:40:53.933248Z",
     "iopub.status.busy": "2025-03-16T08:40:53.932898Z",
     "iopub.status.idle": "2025-03-16T08:40:54.333287Z",
     "shell.execute_reply": "2025-03-16T08:40:54.332180Z"
    },
    "papermill": {
     "duration": 0.407162,
     "end_time": "2025-03-16T08:40:54.335419",
     "exception": false,
     "start_time": "2025-03-16T08:40:53.928257",
     "status": "completed"
    },
    "tags": []
   },
   "outputs": [
    {
     "name": "stderr",
     "output_type": "stream",
     "text": [
      "/usr/local/lib/python3.10/dist-packages/seaborn/_oldcore.py:1119: FutureWarning: use_inf_as_na option is deprecated and will be removed in a future version. Convert inf values to NaN before operating instead.\n",
      "  with pd.option_context('mode.use_inf_as_na', True):\n",
      "/usr/local/lib/python3.10/dist-packages/seaborn/_oldcore.py:1119: FutureWarning: use_inf_as_na option is deprecated and will be removed in a future version. Convert inf values to NaN before operating instead.\n",
      "  with pd.option_context('mode.use_inf_as_na', True):\n"
     ]
    },
    {
     "data": {
      "image/png": "[encoded data removed]",
      "text/plain": [
       "<Figure size 1200x600 with 1 Axes>"
      ]
     },
     "metadata": {},
     "output_type": "display_data"
    }
   ],
   "source": [
    "# Plot historical demand trends\n",
    "plt.figure(figsize=(12, 6))\n",
    "sns.lineplot(x='Date', y='Order_Demand', data=df_grouped, marker='o')\n",
    "plt.xlabel('Date')\n",
    "plt.ylabel('Total Order Demand')\n",
    "plt.title('Historical Product Demand Trends')\n",
    "plt.xticks(rotation=45)\n",
    "plt.grid()\n",
    "plt.show()\n"
   ]
  },
  {
   "cell_type": "markdown",
   "id": "5e54a561",
   "metadata": {
    "papermill": {
     "duration": 0.004871,
     "end_time": "2025-03-16T08:40:54.345622",
     "exception": false,
     "start_time": "2025-03-16T08:40:54.340751",
     "status": "completed"
    },
    "tags": []
   },
   "source": [
    "##  Model Training (RandomForest Regressor)"
   ]
  },
  {
   "cell_type": "code",
   "execution_count": 6,
   "id": "9bc22b36",
   "metadata": {
    "execution": {
     "iopub.execute_input": "2025-03-16T08:40:54.357006Z",
     "iopub.status.busy": "2025-03-16T08:40:54.356639Z",
     "iopub.status.idle": "2025-03-16T08:40:54.500709Z",
     "shell.execute_reply": "2025-03-16T08:40:54.499411Z"
    },
    "papermill": {
     "duration": 0.15164,
     "end_time": "2025-03-16T08:40:54.502368",
     "exception": false,
     "start_time": "2025-03-16T08:40:54.350728",
     "status": "completed"
    },
    "tags": []
   },
   "outputs": [
    {
     "name": "stdout",
     "output_type": "stream",
     "text": [
      "\n",
      "Model Evaluation:\n",
      "Mean Absolute Error (MAE): 6044362.45\n",
      "Root Mean Squared Error (RMSE): 7302279.89\n"
     ]
    }
   ],
   "source": [
    "# Define input features (X) and target variable (y)\n",
    "X = df_grouped[['Year', 'Month']]\n",
    "y = df_grouped['Order_Demand']\n",
    "\n",
    "# Split into training (80%) and testing (20%) sets\n",
    "X_train, X_test, y_train, y_test = train_test_split(X, y, test_size=0.2, random_state=42)\n",
    "\n",
    "# Train the model\n",
    "model = RandomForestRegressor(n_estimators=100, random_state=42)\n",
    "model.fit(X_train, y_train)\n",
    "\n",
    "# Make predictions\n",
    "y_pred = model.predict(X_test)\n",
    "\n",
    "# Model evaluation\n",
    "mae = mean_absolute_error(y_test, y_pred)\n",
    "rmse = np.sqrt(mean_squared_error(y_test, y_pred))\n",
    "\n",
    "print(f\"\\nModel Evaluation:\")\n",
    "print(f\"Mean Absolute Error (MAE): {mae:.2f}\")\n",
    "print(f\"Root Mean Squared Error (RMSE): {rmse:.2f}\")\n"
   ]
  },
  {
   "cell_type": "code",
   "execution_count": 7,
   "id": "8482f23f",
   "metadata": {
    "execution": {
     "iopub.execute_input": "2025-03-16T08:40:54.514211Z",
     "iopub.status.busy": "2025-03-16T08:40:54.513556Z",
     "iopub.status.idle": "2025-03-16T08:40:54.534142Z",
     "shell.execute_reply": "2025-03-16T08:40:54.533002Z"
    },
    "papermill": {
     "duration": 0.02821,
     "end_time": "2025-03-16T08:40:54.535853",
     "exception": false,
     "start_time": "2025-03-16T08:40:54.507643",
     "status": "completed"
    },
    "tags": []
   },
   "outputs": [
    {
     "name": "stdout",
     "output_type": "stream",
     "text": [
      "\n",
      "Future Demand Forecast:\n",
      "    Year  Month  Predicted_Order_Demand\n",
      "0  2024      1             21133733.41\n",
      "1  2024      2             20318726.32\n",
      "2  2024      3             23267448.69\n",
      "3  2024      4             23357881.56\n",
      "4  2024      5             21546515.72\n",
      "5  2024      6             22062112.45\n"
     ]
    }
   ],
   "source": [
    "# Predict future demand for the next 6 months\n",
    "future_dates = pd.DataFrame({'Year': [2024]*6, 'Month': [1, 2, 3, 4, 5, 6]})\n",
    "future_predictions = model.predict(future_dates)\n",
    "\n",
    "# Create a DataFrame to store results\n",
    "future_df = future_dates.copy()\n",
    "future_df['Predicted_Order_Demand'] = future_predictions\n",
    "print(\"\\nFuture Demand Forecast:\\n\", future_df)\n",
    "\n",
    "# Save processed data\n",
    "df_grouped.to_csv(\"processed_product_demand.csv\", index=False)\n"
   ]
  }
 ],
 "metadata": {
  "kaggle": {
   "accelerator": "none",
   "dataSources": [
    {
     "datasetId": 2208,
     "sourceId": 3724,
     "sourceType": "datasetVersion"
    }
   ],
   "dockerImageVersionId": 30918,
   "isGpuEnabled": false,
   "isInternetEnabled": true,
   "language": "python",
   "sourceType": "notebook"
  },
  "kernelspec": {
   "display_name": "Python 3",
   "language": "python",
   "name": "python3"
  },
  "language_info": {
   "codemirror_mode": {
    "name": "ipython",
    "version": 3
   },
   "file_extension": ".py",
   "mimetype": "text/x-python",
   "name": "python",
   "nbconvert_exporter": "python",
   "pygments_lexer": "ipython3",
   "version": "3.10.12"
  },
  "papermill": {
   "default_parameters": {},
   "duration": 10.830679,
   "end_time": "2025-03-16T08:40:55.361386",
   "environment_variables": {},
   "exception": null,
   "input_path": "__notebook__.ipynb",
   "output_path": "__notebook__.ipynb",
   "parameters": {},
   "start_time": "2025-03-16T08:40:44.530707",
   "version": "2.6.0"
  }
 },
 "nbformat": 4,
 "nbformat_minor": 5
}
